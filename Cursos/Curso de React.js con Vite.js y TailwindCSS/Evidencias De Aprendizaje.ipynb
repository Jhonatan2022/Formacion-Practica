{
 "cells": [
  {
   "attachments": {},
   "cell_type": "markdown",
   "metadata": {},
   "source": [
    "# Pasos a seguir para crear un proyecto con Vite.js y TailwindCSS\n",
    "\n",
    "```sh\n",
    "# Instalar Vite.js y seleccionar React.js como framework\n",
    "npm create vite@latest\n",
    "```\n",
    "\n",
    "```sh\n",
    "# Instalar TailwindCSS postcss autoprefixer\n",
    "npm install -D tailwindcss postcss autoprefixer\n",
    "```\n",
    "\n",
    "```sh\n",
    "# Crear archivo de configuración de TailwindCSS\n",
    "npx tailwindcss init -p\n",
    "```\n",
    "\n",
    "```sh\n",
    "# Correr el servidor de desarrollo\n",
    "# Abrimos el puerto http://localhost:5173/\n",
    "npm run dev\n",
    "```"
   ]
  },
  {
   "attachments": {},
   "cell_type": "markdown",
   "metadata": {},
   "source": [
    "## Webs De Interes \n",
    "\n",
    "* [Tailwind Cheat Sheet](https://tailwindcomponents.com/cheatsheet/) Para ver los componentes de TailwindCSS\n",
    "* [Tailwind CSS](https://tailwindcss.com/) Documentacion de TailwindCSS\n",
    "* [Vite](https://vitejs.dev/) Documentacion de Vite\n",
    "* [React](https://es.reactjs.org/) Documentacion de React"
   ]
  }
 ],
 "metadata": {
  "language_info": {
   "name": "python"
  },
  "orig_nbformat": 4
 },
 "nbformat": 4,
 "nbformat_minor": 2
}
