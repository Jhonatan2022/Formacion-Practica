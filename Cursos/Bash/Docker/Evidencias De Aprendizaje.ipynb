{
 "cells": [
  {
   "cell_type": "markdown",
   "metadata": {},
   "source": [
    "# Docker\n",
    "\n",
    "## Problemas de las MVs (Virtual Machines)\n",
    "![](img/Virtual%20Machines.png)\n",
    "\n",
    "## Contenedores caracteristicas\n",
    "![](img/Caracteristicas.png)\n",
    "\n",
    "\n",
    "## Contenedores vs MVs\n",
    "![](img/vs.png)"
   ]
  },
  {
   "cell_type": "markdown",
   "metadata": {},
   "source": [
    "# Webs de interés\n",
    "\n",
    "* [Explicado con gatitos](https://teloexplicocongatitos.com/)\n",
    "* [Docker](https://www.docker.com/)"
   ]
  }
 ],
 "metadata": {
  "language_info": {
   "name": "python"
  },
  "orig_nbformat": 4
 },
 "nbformat": 4,
 "nbformat_minor": 2
}
