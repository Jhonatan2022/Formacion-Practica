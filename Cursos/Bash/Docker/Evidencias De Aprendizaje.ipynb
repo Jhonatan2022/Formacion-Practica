{
 "cells": [
  {
   "cell_type": "markdown",
   "metadata": {},
   "source": [
    "# Docker\n",
    "\n",
    "## Reuisitos para instalar Docker\n",
    "* [WSL2](https://docs.microsoft.com/en-us/windows/wsl/install-win10)\n",
    "\n",
    "## Instalacion de Docker\n",
    "* [Docker Desktop](https://www.docker.com/products/docker-desktop)\n",
    "\n",
    "1. Dercargamos el ejecutable de la pagina oficial de Docker, lo ejecutamos y esperamos a que termine la instalacion.\n",
    "2. Una vez instalado, lo ejecutamos y nos pedira que iniciemos sesion con nuestra cuenta de Docker, si no tenemos una, nos registramos.\n",
    "3. Verificamos en los `Features` de Windows que este activado `Windows Subsystem for Linux` y `Virtual Machine Platform`.\n",
    "\n",
    "![](img/Features.png)\n",
    "\n",
    "4. Confirmamos el checkeo de los siguientes componentes de Docker Desktop:\n",
    "\n",
    "![](img/Checks.png)\n",
    "![](img/Check.png)\n",
    "\n",
    "5. Si queremos iniciar sesion con nuestra cuenta de Docker, lo hacemos en la terminal con el comando `docker login` y nos pedira nuestro usuario y contraseña.\n",
    "\n",
    "![](img/Login%20Docker.png)\n",
    "\n",
    "\n",
    "## Problemas de las MVs (Virtual Machines)\n",
    "![](img/Virtual%20Machines.png)\n",
    "\n",
    "\n",
    "## Contenedores caracteristicas\n",
    "![](img/Caracteristicas.png)\n",
    "\n",
    "\n",
    "## Contenedores vs MVs\n",
    "![](img/vs.png)"
   ]
  },
  {
   "cell_type": "markdown",
   "metadata": {},
   "source": [
    "# Webs de interés\n",
    "\n",
    "* [Explicado con gatitos](https://teloexplicocongatitos.com/)\n",
    "* [Docker](https://www.docker.com/)"
   ]
  }
 ],
 "metadata": {
  "language_info": {
   "name": "python"
  },
  "orig_nbformat": 4
 },
 "nbformat": 4,
 "nbformat_minor": 2
}
