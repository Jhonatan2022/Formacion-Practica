{
 "cells": [
  {
   "attachments": {},
   "cell_type": "markdown",
   "metadata": {},
   "source": [
    "# Curso Practico de SQL\n",
    "\n",
    "## Requisitos para el curso\n",
    "\n",
    "* PostgreSQL instalado [Descargar](https://www.postgresql.org/download/)\n",
    "\n",
    "\n",
    "## Pasos\n",
    "\n",
    "* Abrimos la shell de PostgreSQL y ejecutamos los siguientes comandos\n",
    "\n",
    "```sh\n",
    "# Indicamos nuestra propia maquina como servidor, también se puede 127.0.0.1\n",
    "Server [localhost]: localhost\n",
    "# Podemos dejar los valores por defecto dando enter\n",
    "Contraseña: root\n",
    "```\n",
    "![](img/Shell%20SQL.png)\t\n",
    "\n",
    "\n",
    "1. Ingresamos a pgadmin y creamos una base de datos llamada `pruebas`, luego creamos el schema `platzi`\n",
    "2. Damos click derecho en `platzi` y seleccionamos `Query Tool`, en ingresamos los comandos que estan en la tabla de `Code`\n",
    "\n",
    "![](img/Query%20Tool.png)\n",
    "![](img/Succes.png)"
   ]
  }
 ],
 "metadata": {
  "language_info": {
   "name": "python"
  },
  "orig_nbformat": 4
 },
 "nbformat": 4,
 "nbformat_minor": 2
}
