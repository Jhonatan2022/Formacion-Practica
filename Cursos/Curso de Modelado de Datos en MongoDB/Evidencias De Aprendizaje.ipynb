{
 "cells": [
  {
   "attachments": {},
   "cell_type": "markdown",
   "metadata": {},
   "source": [
    "# Curso de Modelado de Datos en MongoDB\n",
    "\n",
    "## Requisitos previos\n",
    "* [MongoDB](https://www.mongodb.com/try/download/community)\n",
    "\n",
    "\n",
    "## Pasos a seguir\n",
    "1. Creamos una nueva base de datos y le asignamos un nombre.\n",
    "\n",
    "![](img/Create%20Database.png)\n",
    "\n",
    "2. Creamos el usuario y contraseña para la base de datos `jhonatan ` y ` admin123 `.\n",
    "\n",
    "![](img/Admin.png)\n",
    "\n",
    "2. Indicamos las ip que tendrán acceso a la base de datos.\n",
    "\n",
    "![](img/Ip%20address.png)\n",
    "\n",
    "3. Cargamos los datos de la base de datos de ejemplo y en `Browse Collections` podremos ver las colecciones que se han creado.\n",
    "\n",
    "![](img/Load%20Data.png)\n",
    "![](img/Dataset%20Success.png)\n",
    "\n",
    "4. Nos conectamos por mongo compass a la base de datos y ponemos el usuario y contraseña que creamos anteriormente.\n",
    "\n",
    "![](img/Connect%20Compass.png)\n",
    "\n",
    "5. Nos conectamos por VS Code a la base de datos y ponemos el usuario y contraseña que creamos anteriormente.\n",
    "\n",
    "![](img/Connect%20Visual%20Studio.png)\n",
    "![](img/Mongo%20Models%20Visual%20Code.png)\n",
    "\n",
    "\n",
    "## Analísis de datos\n",
    "* [Documento de analísis de datos](https://drive.google.com/file/d/1vjUfujfZNQWKqbymEYwRLbHSgoHTVvKI/view)"
   ]
  },
  {
   "attachments": {},
   "cell_type": "markdown",
   "metadata": {},
   "source": [
    "# Webs de interés\n",
    "* [MongoDB](https://www.mongodb.com/) para descargar MongoDB\n",
    "* [MongoDB Weater Data](https://www.mongodb.com/docs/atlas/sample-data/sample-weather/) para analizar datos de ejemplo\n",
    "* [Extensión de MongoDB para VSCode](https://marketplace.visualstudio.com/items?itemName=mongodb.mongodb-vscode) para conectarse a MongoDB desde VSCode\n",
    "* [WSL](https://docs.microsoft.com/en-us/windows/wsl/install-win10) para instalar WSL en Windows"
   ]
  }
 ],
 "metadata": {
  "language_info": {
   "name": "python"
  },
  "orig_nbformat": 4
 },
 "nbformat": 4,
 "nbformat_minor": 2
}
