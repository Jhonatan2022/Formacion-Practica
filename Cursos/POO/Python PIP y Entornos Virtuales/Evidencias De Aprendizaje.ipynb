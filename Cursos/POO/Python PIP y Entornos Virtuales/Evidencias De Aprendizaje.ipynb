{
 "cells": [
  {
   "attachments": {},
   "cell_type": "markdown",
   "metadata": {},
   "source": [
    "# Python PIP y Entornos Virtuales\n",
    "\n",
    "## Requisitos\n",
    "\n",
    "* [Python](https://www.python.org/downloads/)\n",
    "* [PIP](https://pip.pypa.io/en/stable/installing/)\n",
    "* [Virtualenv](https://virtualenv.pypa.io/en/latest/installation.html)\n",
    "\n",
    "\n",
    "## Charts \n",
    "\n",
    "![Image](img/Pie.png)\n",
    "\n",
    "\n",
    "## Entornos virtuales\n",
    "\n",
    "```sh\n",
    "# Instalar virtualenv\n",
    "pip install virtualenv\n",
    "```\n",
    "\n",
    "\n",
    "```sh\n",
    "# Crear entorno virtual\n",
    "virtualenv venv\n",
    "```\n",
    "\n",
    "\n",
    "```sh\n",
    "# ejecutamos la powershell como administrador y damos permisos de ejecución a los scripts\n",
    "Set-ExecutionPolicy Unrestricted -Scope Process\n",
    "```\n",
    "![](img/Permisos%20.png)\n",
    "\n",
    "\n",
    "```sh\n",
    "# Activar entorno virtual linux\n",
    "source venv/bin/activate\n",
    "# Activar entorno virtual windows\n",
    ".\\venv\\Scripts\\activate\n",
    "```\n",
    "\n",
    "1. Cuando esta activo el entorno virtual se muestra el nombre del entorno virtual en la terminal.\n",
    "\n",
    "![](img/Env.png)"
   ]
  }
 ],
 "metadata": {
  "language_info": {
   "name": "python"
  },
  "orig_nbformat": 4
 },
 "nbformat": 4,
 "nbformat_minor": 2
}
