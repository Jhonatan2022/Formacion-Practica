{
 "cells": [
  {
   "attachments": {},
   "cell_type": "markdown",
   "metadata": {},
   "source": [
    "# Fundamentos de Python\n",
    "\n",
    "## Requisitos\n",
    "\n",
    "* [Python](https://www.python.org/downloads/) 3.8 o superior\n",
    "* [Jupyter Notebook](https://jupyter.org/install) (Opcional)\n",
    "* [Visual Studio Code](https://code.visualstudio.com/download) (Opcional)"
   ]
  }
 ],
 "metadata": {
  "language_info": {
   "name": "python"
  },
  "orig_nbformat": 4
 },
 "nbformat": 4,
 "nbformat_minor": 2
}
