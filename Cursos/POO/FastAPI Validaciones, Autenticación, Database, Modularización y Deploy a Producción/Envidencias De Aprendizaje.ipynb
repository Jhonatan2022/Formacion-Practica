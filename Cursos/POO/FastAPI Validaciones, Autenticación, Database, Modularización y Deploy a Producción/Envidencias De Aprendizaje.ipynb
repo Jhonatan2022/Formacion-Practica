{
 "cells": [
  {
   "cell_type": "markdown",
   "metadata": {},
   "source": [
    "# FastAPI Introducción, Operaciones, Validaciones y Autenticación\n",
    "\n",
    "## Requisitos previos\n",
    "\n",
    "* [Python](https://www.python.org/downloads/) 3.6 o superior\n",
    "* [FastAPI](https://fastapi.tiangolo.com/)\n",
    "* [Conocimientos básicos de Python](https://www.python.org/about/gettingstarted/)\n",
    "* [Conocimientos básicos de HTML](https://developer.mozilla.org/es/docs/Learn/Getting_started_with_the_web/HTML_basics)\n",
    "\n",
    "\n",
    "## ¿Qué es FastAPI?\n",
    "Es un framework moderno y de alto rendimiento para creación de API con Python\n",
    "\n",
    "### Características\n",
    "* Rápido\n",
    "* Menos errores\n",
    "* Fácil e intuitivo\n",
    "* Robusto\n",
    "* Basado en estándares\n",
    "\n",
    "### Marco utilizado por FastAPI\n",
    "* [Starlette](https://www.starlette.io/): Framework asíncrono para la construcción de servicios y es uno de los más rápidos de Python.\n",
    "* [Pydantic](https://pydantic-docs.helpmanual.io/): Encargado de la validación de datos.\n",
    "* [Uvicorn](https://www.uvicorn.org/): Servidor ASGI de alto rendimiento.\n",
    "\n",
    "\n",
    "## Ejecución de FastAPI\n",
    "1. Para ejecutar FastAPI se debe ejecutar el siguiente comando en la terminal:\n",
    "\n",
    "```bash\n",
    "uvicorn main:app --reload\n",
    "```\n",
    "\n",
    "## Swagger UI (Documentación automática del API)\n",
    "1. Si agregamos `/docs` al final de la URL, podemos ver la documentación de la API sobre nuestra aplicación.\n",
    "\n",
    "![](img/Docs.png)\n",
    "\n",
    "2. Si damos click en `openapi.json` podemos ver la documentación en formato JSON.\n",
    "\n",
    "![](img/Openapi.png)\n",
    "\n",
    "3. Podremos ir viendo cada uno de los endpoints que hemos creado.\n",
    "\n",
    "![](img/Endpoints.png)\n",
    "\n",
    "\n",
    "## Códigos de estado\n",
    "\n",
    "* [100 - 199](https://developer.mozilla.org/es/docs/Web/HTTP/Status/100): Respuestas informativas\n",
    "* [200 - 299](https://developer.mozilla.org/es/docs/Web/HTTP/Status/200): Respuestas satisfactorias\n",
    "* [300 - 399](https://developer.mozilla.org/es/docs/Web/HTTP/Status/300): Redirecciones\n",
    "* [400 - 499](https://developer.mozilla.org/es/docs/Web/HTTP/Status/400): Errores del cliente\n",
    "* [500 - 599](https://developer.mozilla.org/es/docs/Web/HTTP/Status/500): Errores del servidor"
   ]
  },
  {
   "cell_type": "markdown",
   "metadata": {},
   "source": [
    "# Webs de interés\n",
    "\n",
    "* [FastAPI](https://fastapi.tiangolo.com/)\n",
    "* [SqlAlchemy](https://www.sqlalchemy.org/)\n",
    "* [SQLModel](https://sqlmodel.tiangolo.com/)\n",
    "* [Fly.io](https://fly.io/)"
   ]
  }
 ],
 "metadata": {
  "language_info": {
   "name": "python"
  },
  "orig_nbformat": 4
 },
 "nbformat": 4,
 "nbformat_minor": 2
}
