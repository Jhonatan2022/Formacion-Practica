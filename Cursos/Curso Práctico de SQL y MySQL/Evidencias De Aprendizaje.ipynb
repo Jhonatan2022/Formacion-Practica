{
 "cells": [
  {
   "attachments": {},
   "cell_type": "markdown",
   "metadata": {},
   "source": [
    "# Instalación de MySQL\n",
    "\n",
    "* [MySQL Installer](https://dev.mysql.com/downloads/installer/) Bases de datos relacionales.\n",
    "* [XAMPP](https://www.apachefriends.org/es/index.html) Para tener un servidor local.\n",
    "\n",
    "1. Seleccionamos Custom, agregamos los siguientes programas; damos en sisguiente y luego en ejecutar.\n",
    "\n",
    "![](img/Programas%20De%20MySQL.png)\n",
    "![](img/Configuración%20Inicial.png)\n",
    "\n",
    "## Conectandonos al servidor local\n",
    "\n",
    "![](img/Connect.png)"
   ]
  }
 ],
 "metadata": {
  "language_info": {
   "name": "python"
  },
  "orig_nbformat": 4
 },
 "nbformat": 4,
 "nbformat_minor": 2
}
