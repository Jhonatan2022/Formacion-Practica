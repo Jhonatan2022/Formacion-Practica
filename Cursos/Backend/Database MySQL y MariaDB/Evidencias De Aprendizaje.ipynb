{
 "cells": [
  {
   "attachments": {},
   "cell_type": "markdown",
   "metadata": {},
   "source": [
    "# Bases de datos con mysql y mariadb\n",
    "\n",
    "## Requisitos\n",
    "\n",
    "* Tener instalado mariadb [Descargar](https://downloads.mariadb.org/mariadb/10.5.8/)\n",
    "\n",
    "* Password de root de mariadb: ```root```\n",
    "\n",
    "![](img/Install%20Mariadb.png)\n",
    "\n",
    "1. Nos dirigimos al buscador de windows y escribimos ```mariaDB``` y abrimos el programa\n",
    "\n",
    "![](img/Cmd%20Mariadb.png)\n",
    "\n",
    "2. Nos pedira la contraseña de root, la ingresamos y damos enter\n",
    "\n",
    "![](img/User%20Root.png)\n",
    "\n",
    "3. Agregamos la direccion de la carpeta ```bin``` de mariadb a las variables de entorno, para poder ejecutar comandos de mariadb desde cualquier ubicacion\n",
    "\n",
    "![](img/Add%20to%20path.png)\n",
    "\n",
    "\n",
    "## Coneccion a la base de datos\n",
    "\n",
    "1. Abrimos una terminal de comandos y escribimos ```mysql -u root -p``` y damos enter, nos pedira la contraseña de root, la ingresamos y damos enter\n",
    "\n",
    "![](img/Connect%20database.png)\n",
    "![](img/Databases.png)\n",
    "\n",
    "\n",
    "## Manejo de usuarios\n",
    "\n",
    "![](img/Create%20User.png)"
   ]
  }
 ],
 "metadata": {
  "language_info": {
   "name": "python"
  },
  "orig_nbformat": 4
 },
 "nbformat": 4,
 "nbformat_minor": 2
}
