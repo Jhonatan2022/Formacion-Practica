{
 "cells": [
  {
   "attachments": {},
   "cell_type": "markdown",
   "metadata": {},
   "source": [
    "# Curso de Introducción a MongoDB\n",
    "\n",
    "## Requisitos previos\n",
    "\n",
    "* Registrarnos en [MongoDB Atlas](https://www.mongodb.com/cloud/atlas/register)\n",
    "* MongoDB instalado: [MongoDB Community Server](https://www.mongodb.com/try/download/community)\n",
    "\n",
    "\n",
    "## Conexión a MongoDB Atlas\n",
    "\n",
    "1. Nos dirigimos a la sección de ``Quick Start`` y creamos un `Nombre de usuario` y una `Contraseña` para nuestro cluster.\n",
    "\n",
    "![](img/Clubter.png)\n",
    "\n",
    "2. Indicamos las direcciones IP que tendrán acceso a nuestro cluster y finalizamos para dirigirnos a la sección de ``Database Access``.\n",
    "\n",
    "![](img/IP%20acces.png)\n",
    "\n",
    "3. Cargamos información de ejemplo en nuestro cluster, para ello nos dirigimos a la sección de ``Collections`` y seleccionamos ``Load Sample Dataset``, esto nos cargará una base de datos de ejemplo.\n",
    "* Podemos ver los datos que se cargan [aquí](https://www.mongodb.com/docs/atlas/sample-data/).\n",
    "\n",
    "![](img/Load%20Sample.png)\n",
    "\n"
   ]
  }
 ],
 "metadata": {
  "language_info": {
   "name": "python"
  },
  "orig_nbformat": 4
 },
 "nbformat": 4,
 "nbformat_minor": 2
}
