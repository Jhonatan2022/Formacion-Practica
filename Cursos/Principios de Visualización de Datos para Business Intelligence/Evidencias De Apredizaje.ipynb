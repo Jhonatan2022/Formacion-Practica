{
 "cells": [
  {
   "attachments": {},
   "cell_type": "markdown",
   "metadata": {},
   "source": [
    "## Tipos de gráficos\n",
    "\n",
    "![](img/Tipos%20de%20graficas.png)"
   ]
  },
  {
   "attachments": {},
   "cell_type": "markdown",
   "metadata": {},
   "source": [
    "## Herramientas para el análisis de datos\n",
    "\n",
    "* [Power BI](https://powerbi.microsoft.com/es-es/)\n",
    "* [Tableau](https://www.tableau.com/es-es)\n",
    "* [Excel](https://www.microsoft.com/es-es/microsoft-365/excel)\n",
    "* [Google Data Studio](https://datastudio.google.com/u/0/navigation/reporting)\n",
    "* [Google Analytics](https://analytics.google.com/analytics/web/)"
   ]
  }
 ],
 "metadata": {
  "language_info": {
   "name": "python"
  },
  "orig_nbformat": 4
 },
 "nbformat": 4,
 "nbformat_minor": 2
}
