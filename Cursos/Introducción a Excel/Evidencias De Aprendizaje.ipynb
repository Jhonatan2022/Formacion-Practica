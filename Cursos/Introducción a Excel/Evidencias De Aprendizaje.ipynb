{
 "cells": [
  {
   "attachments": {},
   "cell_type": "markdown",
   "metadata": {},
   "source": [
    "# Curso de Introducción a Excel\n",
    "\n",
    "\n",
    "\n",
    "## [Primer Curso Evidencias](https://misenaeduco-my.sharepoint.com/:x:/r/personal/jdflorez038_misena_edu_co/_layouts/15/Doc.aspx?sourcedoc=%7BB3748C18-DBF7-40FF-ACD5-EB93F13BC4DA%7D&file=Libro.xlsx&action=default&mobileredirect=true&DefaultItemOpen=1&login_hint=jdflorez038%40misena.edu.co&ct=1686244695413&wdOrigin=OFFICECOM-WEB.START.REC&cid=cc7df8d4-a4dd-4beb-9a01-6a4aa1b5f9ac&wdPreviousSessionSrc=HarmonyWeb&wdPreviousSession=dc91a7ac-64ea-4433-bda3-ce41fcc0ca0f)\n",
    "\n",
    "\n",
    "* Ctrl+A Muestra el cuadro de diálogo Abrir.\n",
    "* Ctrl+B Muestra el cuadro de diálogo Buscar.\n",
    "* Ctrl+C Copia las celdas seleccionadas.\n",
    "* Ctrl+D Copia una fórmula hacia la derecha sobre el rango seleccionado.\n",
    "* Ctrl+E Selecciona todas las celdas de la hoja actual.\n",
    "* Ctrl+G Guarda el libro de trabajo.\n",
    "* Ctrl+I Muestra el cuadro de diálogo Ir a.\n",
    "* Ctrl+J Copia una fórmula hacia abajo sobre el rango seleccionado.\n",
    "* Ctrl+K Aplica formato de cursiva al texto seleccionado.\n",
    "* Ctrl+L Muestra el cuadro de diálogo Reemplazar.\n",
    "* Ctrl+N Aplica formato de negrita al texto seleccionado.\n",
    "* Ctrl+P Muestra el cuadro de diálogo Imprimir.\n",
    "* Ctrl+R Cierra el libro de trabajo.\n",
    "* Ctrl+S Subraya el texto seleccionado.\n",
    "* Ctrl+T Muestra el cuadro de diálogo Crear tabla.\n",
    "* Ctrl+U Nuevo libro de trabajo.\n",
    "* Ctrl+V Pega el contenido del portapapeles.\n",
    "* Ctrl+X Corta las celdas seleccionadas.\n",
    "* Ctrl+Y Rehace la última acción deshecha.\n",
    "* Ctrl+Z Deshace la última acción.\n",
    "* Ctrl+1 Muestra el cuadro de diálogo Formato de celdas.\n",
    "* Ctrl+2 Aplica formato de negrita al texto seleccionado.\n",
    "* Ctrl+3 Aplica formato de cursiva al texto seleccionado.\n",
    "* Ctrl+4 Subraya el texto seleccionado.\n",
    "* Ctrl+5 Aplica el efecto de tachado al texto.\n",
    "* Ctrl+6 Oculta o muestra los objetos de la hoja.\n",
    "* Ctrl+8 Muestra los símbolos de esquema en la hoja.\n",
    "* Ctrl+9 Oculta las filas seleccionadas.\n",
    "* Ctrl+0 Oculta las columnas seleccionadas.\n",
    "\n",
    "![](img/Atajos.png)\n",
    "![](img/exam.png)\n",
    "![](img/Exam2.png)"
   ]
  }
 ],
 "metadata": {
  "language_info": {
   "name": "python"
  },
  "orig_nbformat": 4
 },
 "nbformat": 4,
 "nbformat_minor": 2
}
