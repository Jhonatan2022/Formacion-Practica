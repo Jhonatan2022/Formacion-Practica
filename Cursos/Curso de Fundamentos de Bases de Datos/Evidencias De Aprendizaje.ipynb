{
 "cells": [
  {
   "attachments": {},
   "cell_type": "markdown",
   "metadata": {},
   "source": [
    "# Modelos del proyecto BlogPlatzi\n",
    "\n",
    "## Modelo Entidad-Relación\n",
    "![](img/Modelo%20Endtidad%20Relación.png)\n",
    "\n",
    "## Modelo Relacional Normalizado\n",
    "\n",
    "![](img/Normalizado.png)\n",
    "![](img/Normalizado2.png)"
   ]
  },
  {
   "attachments": {},
   "cell_type": "markdown",
   "metadata": {},
   "source": [
    "# Curso de Fundamentos de Bases de Datos\n",
    "\n",
    "## Entidades y relaciones\n",
    "\n",
    "![](img/Entidades%20y%20Relaciones.png)\n",
    "![](img/Relaciones.png)\n",
    "\n",
    "\n",
    "### Tipos de dato:\n",
    "\n",
    "- Texto: CHAR(n), VARCHAR(n), TEXT\n",
    "- Números: INTEGER, BIGINT, SMALLINT, DECIMAL(n,s), NUMERIC(n,s)\n",
    "- Fecha/hora: DATE, TIME, DATETIME, TIMESTAMP\n",
    "- Lógicos: BOOLEAN\n",
    "\n",
    "\n",
    "### Constraints (Restricciones)\n",
    "\n",
    "- NOT NULL: Se asegura que la columna no tenga valores nulos\n",
    "- UNIQUE: Se asegura que cada valor en la columna no se repita\n",
    "- PRIMARY KEY: Es una combinación de NOT NULL y UNIQUE\n",
    "- FOREIGN KEY: Identifica de manera única una tupla en otra tabla\n",
    "- CHECK: Se asegura que el valor en la columna cumpla una condición dada\n",
    "- DEFAULT: Coloca un valor por defecto cuando no hay un valor especificado\n",
    "- INDEX: Se crea por columna para permitir búsquedas más rápidas\n",
    "\n",
    "\n",
    "## Normalización\n",
    "\n",
    "![](img/Primera%20Forma%20Normal.png)\n",
    "![](img/Segunda%20Forma%20Normal.png)\n",
    "![](img/Tervera%20Forma%20Normal.png)\n",
    "![](img/CuartaForma%20Normal.png)\n",
    "\n",
    "### SQL tiene dos grandes sublenguajes:\n",
    "* DDL o Data Definition Language que nos ayuda a crear la estructura de una base de datos. Existen 3 grandes comandos:\n",
    "- Create: Nos ayuda a crear bases de datos, tablas, vistas, índices, etc.\n",
    "- Alter: Ayuda a alterar o modificar entidades.\n",
    "- Drop: Nos ayuda a borrar. Hay que tener cuidado al utilizarlo.\n",
    "\n",
    "\n",
    "### 3 objetos que manipularemos con el lenguaje DDL:\n",
    "Database o bases de datos\n",
    "Table o tablas. Son la traducción a SQL de las entidades\n",
    "View o vistas: Se ofrece la proyección de los datos de la base de datos de forma entendible."
   ]
  },
  {
   "attachments": {},
   "cell_type": "markdown",
   "metadata": {},
   "source": [
    "# Instalación de MySQL\n",
    "\n",
    "1. Seleccionamos Custom, agregamos los siguientes programas; damos en sisguiente y luego en ejecutar.\n",
    "\n",
    "![](img/Programas%20De%20MySQL.png)\n",
    "![](img/Configuración%20Inicial.png)\n",
    "\n",
    "2. Seleccionamos la opción Developer Default y damos en siguiente, luego ingresamos la contraseña (root) y damos en siguiente.\n",
    "\n",
    "## Usaremos 000webhost.com para subir nuestra base de datos\n",
    "\n",
    "* Usuario: id20806556_root\n",
    "* Contraseña: Jhonatan2022/\n",
    "\n",
    "![](img/Data%20Base.png)\n",
    "![](img/Web%20Host.png)\n",
    "\n",
    "## Comandos De SQL\n",
    "\n",
    "![](img/Comands%20SQL.png)"
   ]
  },
  {
   "attachments": {},
   "cell_type": "markdown",
   "metadata": {},
   "source": [
    "## Webs De Interes\n",
    "\n",
    "* [Diagrams Online](https://app.diagrams.net/)\n",
    "* [MySQL Installer](https://dev.mysql.com/downloads/installer/)  \n",
    "* [Google Cloud](https://console.cloud.google.com/getting-started?pli=1)\n",
    "* [000webhost](https://www.000webhost.com/members/website/list)\n",
    "* [Frebase](https://console.firebase.google.com/)"
   ]
  }
 ],
 "metadata": {
  "language_info": {
   "name": "python"
  },
  "orig_nbformat": 4
 },
 "nbformat": 4,
 "nbformat_minor": 2
}
