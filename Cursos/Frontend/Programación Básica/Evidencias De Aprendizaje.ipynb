{
 "cells": [
  {
   "attachments": {},
   "cell_type": "markdown",
   "metadata": {},
   "source": [
    "## Curso de programación básica\n",
    "\n",
    "## Requisitos del curso\n",
    "\n",
    "* [Node.js](https://nodejs.org/es/)\n",
    "\n",
    "1. Instalamos express js\n",
    "    \n",
    "    ```bash\n",
    "    npm install express\n",
    "    ```"
   ]
  },
  {
   "attachments": {},
   "cell_type": "markdown",
   "metadata": {},
   "source": [
    "# Webs de referencia\n",
    "\n",
    "## Javascript\n",
    "* [MDN Web Docs](https://developer.mozilla.org/es/)\n",
    "\n",
    "## CSS\n",
    "* [Css Reference](https://cssreference.io/)\n",
    "* [Color Codes](https://htmlcolorcodes.com/es/)\n",
    "* [Flexbox](https://www.samanthaming.com/flexbox30/)\n",
    "* [Css Scrips](https://css-tricks.com/snippets/css/a-guide-to-flexbox/)\n",
    "\n",
    "![](img/FlexBox.png)\n",
    "![](img/Url%20And%20Uri.png)"
   ]
  }
 ],
 "metadata": {
  "language_info": {
   "name": "python"
  },
  "orig_nbformat": 4
 },
 "nbformat": 4,
 "nbformat_minor": 2
}
