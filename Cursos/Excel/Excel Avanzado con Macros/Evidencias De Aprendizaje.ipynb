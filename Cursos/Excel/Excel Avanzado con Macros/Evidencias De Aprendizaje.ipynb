{
 "cells": [
  {
   "attachments": {},
   "cell_type": "markdown",
   "metadata": {},
   "source": [
    "# Curso de Excel Avanzado con Macros\n",
    "1. Activamos la pestaña de `Desarrollador` en Excel.\n",
    "2. Creamos un nuevo archivo de Excel y lo guardamos como `xslm` = `Excel con Macros`.\n",
    "\n",
    "\n",
    "## Tipos de datos en VBA\n",
    "![](img/Tipos%20de%20datos.png)\n",
    "\n",
    "\n",
    "## Funciones y subrutinas\n",
    "![](img/Subrutinas.png)\n",
    "\n",
    "\n",
    "## Grabar y correr macros\n",
    "1. Nos dirigimos a la pestaña `Desarrollador` y seleccionamos `Grabar Macro`.\n",
    "2. Asignamos un nombre a la macro y seleccionamos el botón `Aceptar`.\n",
    "3. Realizamos las acciones que queremos que se repitan.\n",
    "4. Seleccionamos el botón `Detener Grabación`.\n",
    "5. Si queremos ejecutar la macro en otra hoja, nos dirigimos a la pestaña `Desarrollador` y seleccionamos `Macros` y podremos seleccionar la macro que queremos ejecutar.\n",
    "\n",
    "![](img/Macro%20Formato.png)\n",
    "\n",
    "\n",
    "## Sintaixis de funciones y subrutinas\n",
    "\n",
    "![](img/Sintaxis.png)\n",
    "![](img/Función.png)\n",
    "![](img/Sheets.png)\n",
    "\n",
    "\n",
    "\n",
    "## MSGBOX "
   ]
  }
 ],
 "metadata": {
  "language_info": {
   "name": "python"
  },
  "orig_nbformat": 4
 },
 "nbformat": 4,
 "nbformat_minor": 2
}
