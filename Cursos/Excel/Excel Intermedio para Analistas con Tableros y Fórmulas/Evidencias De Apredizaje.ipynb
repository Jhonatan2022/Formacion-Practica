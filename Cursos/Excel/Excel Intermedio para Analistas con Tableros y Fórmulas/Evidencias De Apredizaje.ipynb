{
 "cells": [
  {
   "attachments": {},
   "cell_type": "markdown",
   "metadata": {},
   "source": [
    "# Curso de excel intermedio para analistas con tableros y fórmulas\n",
    "\n",
    "## De texto a columnas\n",
    "![](img/Texto%20solo.png)\n",
    "\n",
    "1. Seleccionar la columna y nos dirigmos al apartados de `Datos`, seleccionamos `Texto en columnas` y nos aparecerá una ventana emergente.\n",
    "\n",
    "![](img/Columnas%20Seleccionadas.png)\n",
    "![](img/Separador.png)\n",
    " "
   ]
  },
  {
   "attachments": {},
   "cell_type": "markdown",
   "metadata": {},
   "source": [
    "## Herramientas para el análisis de datos\n",
    "\n",
    "* [Power BI](https://powerbi.microsoft.com/es-es/)\n",
    "* [Tableau](https://www.tableau.com/es-es)\n",
    "* [Excel](https://www.microsoft.com/es-es/microsoft-365/excel)\n",
    "* [Google Data Studio](https://datastudio.google.com/u/0/navigation/reporting)\n",
    "* [Google Analytics](https://analytics.google.com/analytics/web/)"
   ]
  }
 ],
 "metadata": {
  "language_info": {
   "name": "python"
  },
  "orig_nbformat": 4
 },
 "nbformat": 4,
 "nbformat_minor": 2
}
