{
 "cells": [
  {
   "attachments": {},
   "cell_type": "markdown",
   "metadata": {},
   "source": [
    "# Curso de excel intermedio para analistas con tableros y fórmulas\n",
    "\n",
    "## De texto a columnas\n",
    "![](img/Texto%20solo.png)\n",
    "\n",
    "1. Seleccionar la columna y nos dirigmos al apartados de `Datos`, seleccionamos `Texto en columnas` y nos aparecerá una ventana emergente.\n",
    "\n",
    "![](img/Columnas%20Seleccionadas.png)\n",
    "![](img/Separador.png)\n",
    "\n",
    "\n",
    "\n",
    "## Validación de datos\n",
    "1. Seleccionamos la columna que queremos validar y nos dirigimos a `Datos` y seleccionamos `Validación de datos`.\n",
    "\n",
    "![](img/Validacion%20De%20Datos.png) \n",
    "\n",
    "\n",
    "\n",
    "## Formato condicional\n",
    "1. Seleccionamos la columna que queremos validar y nos dirigimos a `Formato condicional` y seleccionamos `Nueva regla`.\n",
    "\n",
    "![](img/Formato%20Condicional.png)\n",
    "\n",
    "\n",
    "\n",
    "## Analizar datos automáticamente\n",
    "1. Seleccionamos la columna que queremos validar y nos dirigimos a `Datos` y seleccionamos `Análisis rápido`.\n",
    "\n",
    "![](img/Analisis%20de%20datos%20rapido.png)\n",
    "\n",
    "\n",
    "\n",
    "## Tablas dinámicas\n",
    "1. Seleccionamos la columna que queremos validar y nos dirigimos a `Insertar` y seleccionamos `Tabla dinámica`.\n",
    "\n",
    "![](img/Dinamic%20.png)\n",
    "\n",
    "\n",
    "\n",
    "## Campos calculados\n",
    "1. Seleccionamos la tabla dinámica y nos dirigimos a `Herramientas de tabla dinámica` y seleccionamos `Campos calculados`.\n",
    "\n",
    "![](img/Calculos%20dinamicos.png)\n",
    "\n",
    "\n",
    "\n",
    "## Tipos de gráficos\n",
    "1. Seleccionamos la tabla dinámica y nos dirigimos a `Insertar` y seleccionamos `Gráfico recomendado`.\n",
    "\n"
   ]
  },
  {
   "attachments": {},
   "cell_type": "markdown",
   "metadata": {},
   "source": [
    "## Herramientas para el análisis de datos\n",
    "\n",
    "* [Power BI](https://powerbi.microsoft.com/es-es/)\n",
    "* [Tableau](https://www.tableau.com/es-es)\n",
    "* [Excel](https://www.microsoft.com/es-es/microsoft-365/excel)\n",
    "* [Google Data Studio](https://datastudio.google.com/u/0/navigation/reporting)\n",
    "* [Google Analytics](https://analytics.google.com/analytics/web/)"
   ]
  }
 ],
 "metadata": {
  "language_info": {
   "name": "python"
  },
  "orig_nbformat": 4
 },
 "nbformat": 4,
 "nbformat_minor": 2
}
