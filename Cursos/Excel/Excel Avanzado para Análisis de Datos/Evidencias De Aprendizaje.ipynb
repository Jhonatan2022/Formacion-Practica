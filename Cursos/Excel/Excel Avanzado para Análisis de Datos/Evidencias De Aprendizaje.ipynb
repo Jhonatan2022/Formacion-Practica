{
 "cells": [
  {
   "attachments": {},
   "cell_type": "markdown",
   "metadata": {},
   "source": [
    "# Curso de Excel Avanzado para Análisis de Datos\n",
    "* [Documento Guía](https://drive.google.com/file/d/1VsAKznKiEW59m5OPHlMQ-Qiq97yKx5FT/view)\n",
    "\n",
    "\n",
    "## Habilitando el complemento de Formulario\n",
    "1. Nos dirigimos a la sección de `Archivo` y seleccionamos `Opciones`, en la ventana que se nos abre seleccionamos `Personalizar cinta de opciones` y en la parte derecha seleccionamos `Nuevo Grupo` y le damos un nombre, en este caso `Formularios` y le damos `Aceptar y Agregar`.\n",
    "\n",
    "![](img/Opción%20Activa.png)\n",
    "\n",
    "\n",
    "## Creando el formulario\n",
    "1. Asirnamos a nustro documento los valores como tabla\n",
    "\n",
    "![](img/Formularios.png)\n",
    "\n",
    "\n",
    "## Vinculando Excels\n",
    "1. Los excel tienen que estar en la misma red o en la misma carpeta y no se le deben cambiar el nombre a los archivos.\n",
    "\n",
    "![](img/Excels%20Conectados.png)\n",
    "\n",
    "\n",
    "\n",
    "## Completar Base de Datos (BuscarV y Power Pivot)\n",
    "* BuscarV es una función que nos permite buscar un valor en una tabla y traer un valor de la misma fila pero de otra columna.\n",
    "* Power Pivot es una herramienta que nos permite crear relaciones entre tablas y realizar cálculos entre ellas.\n",
    "\n",
    "1. "
   ]
  }
 ],
 "metadata": {
  "language_info": {
   "name": "python"
  },
  "orig_nbformat": 4
 },
 "nbformat": 4,
 "nbformat_minor": 2
}
