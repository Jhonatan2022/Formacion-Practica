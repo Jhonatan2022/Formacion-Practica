{
 "cells": [
  {
   "attachments": {},
   "cell_type": "markdown",
   "metadata": {},
   "source": [
    "# Curso Básico de Excel\n",
    "\n",
    "\n",
    "## [Curso Básico](https://misenaeduco-my.sharepoint.com/:x:/r/personal/jdflorez038_misena_edu_co/_layouts/15/Doc.aspx?sourcedoc=%7BB3748C18-DBF7-40FF-ACD5-EB93F13BC4DA%7D&file=Libro.xlsx&action=default&mobileredirect=true&DefaultItemOpen=1&login_hint=jdflorez038%40misena.edu.co&ct=1686244695413&wdOrigin=OFFICECOM-WEB.START.REC&cid=cc7df8d4-a4dd-4beb-9a01-6a4aa1b5f9ac&wdPreviousSessionSrc=HarmonyWeb&wdPreviousSession=dc91a7ac-64ea-4433-bda3-ce41fcc0ca0f)\n",
    "\n",
    "\n",
    "\n",
    "## Cargando un csv en Excel\n",
    "\n",
    "1. Nos dirigimos a la parte de `Datos` y seleccionamos `Obtener y transformar datos` y luego `Desde texto/CSV`\n",
    "\n",
    "![](img/Load%20CSV.png)"
   ]
  }
 ],
 "metadata": {
  "language_info": {
   "name": "python"
  },
  "orig_nbformat": 4
 },
 "nbformat": 4,
 "nbformat_minor": 2
}
