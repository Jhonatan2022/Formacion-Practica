{
 "cells": [
  {
   "attachments": {},
   "cell_type": "markdown",
   "metadata": {},
   "source": [
    "# Curso Básico de Excel\n",
    "\n",
    "\n",
    "## [Curso Básico](https://misenaeduco-my.sharepoint.com/:x:/r/personal/jdflorez038_misena_edu_co/_layouts/15/Doc.aspx?sourcedoc=%7BB3748C18-DBF7-40FF-ACD5-EB93F13BC4DA%7D&file=Libro.xlsx&action=default&mobileredirect=true&DefaultItemOpen=1&login_hint=jdflorez038%40misena.edu.co&ct=1686244695413&wdOrigin=OFFICECOM-WEB.START.REC&cid=cc7df8d4-a4dd-4beb-9a01-6a4aa1b5f9ac&wdPreviousSessionSrc=HarmonyWeb&wdPreviousSession=dc91a7ac-64ea-4433-bda3-ce41fcc0ca0f)\n",
    "\n",
    "\n",
    "\n",
    "## Cargando un csv en Excel\n",
    "\n",
    "1. Nos dirigimos a la parte de `Datos` y seleccionamos `Obtener y transformar datos` y luego `Desde texto/CSV`\n",
    "\n",
    "![](img/CSV.png)\n",
    "![](img/Load%20CSV.png)\n",
    "\n",
    "\n",
    "## Ordenar datos en excel\n",
    "\n",
    "1. `Ctrl + E` para seleccionar toda la tabla, nos dirigiomos a `Datos` y seleccionamos `Ordenar`\n",
    "\n",
    "![](img/Order%20data.png)\n",
    "\n",
    "\n",
    "## Filtrar datos en excel\n",
    "\n",
    "1. Nos dirigimos a `Datos` y seleccionamos `Filtro`, luego seleccionamos la flecha que aparece en la columna que queremos filtrar y seleccionamos filtro personalizado\n",
    "\n",
    "![](img/Filter.png)\n",
    "\n",
    "2. Indicamos los filtros que deseamos aplicar\n",
    "\n",
    "![](img/Filter%20name.png)\n",
    "\n",
    "3. Eliminamos el filtro\n",
    "\n",
    "![](img/Delete%20Filter.png)"
   ]
  }
 ],
 "metadata": {
  "language_info": {
   "name": "python"
  },
  "orig_nbformat": 4
 },
 "nbformat": 4,
 "nbformat_minor": 2
}
