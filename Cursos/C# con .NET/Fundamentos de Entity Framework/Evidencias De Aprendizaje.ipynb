{
 "cells": [
  {
   "attachments": {},
   "cell_type": "markdown",
   "metadata": {},
   "source": [
    "# Fundamentos de Entity Framework\n",
    "\n",
    "## Conexiones con ADO.NET \n",
    "![](img/ObnNet.png)\n",
    "\n",
    "\n",
    "## ORM (Object Relational Mapping)\n",
    "### ORM mas populares\n",
    "* [Hibernate](https://hibernate.org/) (Java)\n",
    "* [Entity Framework](https://docs.microsoft.com/en-us/ef/) (C#)\n",
    "* [Django ORM](https://docs.djangoproject.com/en/3.1/topics/db/) (Python)\n",
    "* [Dapper](https://dapper-tutorial.net/) (C#)\n",
    "* [NHibernate](https://nhibernate.info/) (C#)\n",
    "\n",
    "\n",
    "## Entity Framework\n",
    "![](img/Entity%20Framework.png)\n",
    "\n",
    "### Ventajas\n",
    "![](img/Vnetajas.png)\n",
    "\n",
    "\n",
    "## Instalación de Entity Framework\n",
    "\n",
    "```sh\n",
    "# Comando de instalación\n",
    "dotnet add package Microsoft.EntityFrameworkCore --version 7.0.8\n",
    "```\t\n",
    "\n",
    "1. Verificamos en el archivo .csproj que se haya instalado correctamente\n",
    "\n",
    "![](img/Install%20Entity.png)"
   ]
  }
 ],
 "metadata": {
  "language_info": {
   "name": "python"
  },
  "orig_nbformat": 4
 },
 "nbformat": 4,
 "nbformat_minor": 2
}
