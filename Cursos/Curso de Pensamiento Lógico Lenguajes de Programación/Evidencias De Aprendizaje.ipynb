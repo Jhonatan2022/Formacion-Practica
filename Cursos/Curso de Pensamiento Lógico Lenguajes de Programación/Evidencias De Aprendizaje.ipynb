{
 "cells": [
  {
   "attachments": {},
   "cell_type": "markdown",
   "metadata": {},
   "source": [
    "# Curso d"
   ]
  }
 ],
 "metadata": {
  "language_info": {
   "name": "python"
  },
  "orig_nbformat": 4
 },
 "nbformat": 4,
 "nbformat_minor": 2
}
