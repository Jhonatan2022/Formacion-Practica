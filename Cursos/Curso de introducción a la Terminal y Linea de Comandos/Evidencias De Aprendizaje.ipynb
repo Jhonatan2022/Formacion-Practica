{
 "cells": [
  {
   "attachments": {},
   "cell_type": "markdown",
   "metadata": {},
   "source": [
    "# Curso de introducción a la Terminal y Linea de Comandos\n",
    "\n",
    "```sh\n",
    "# Abrimos powershell y digitamos el comando\n",
    "wsl -install # wsl es el comando para instalar el subsistema de linux en windows\n",
    "# Esperamos a que la barra de progreso llegue al 100% y presionamos Enter para iniciar el proceso de instalación\n",
    "# Una vez finalizado el proceso de instalación, reiniciamos el equipo para que los cambios surtan efecto he ingresamos nuestro usuario y contraseña\n",
    "User = jflorez\n",
    "Password = Colombia.1\n",
    "```\n",
    "![](img/Install%20Ubuntu.png)\n"
   ]
  },
  {
   "attachments": {},
   "cell_type": "markdown",
   "metadata": {},
   "source": [
    "# Tipos de Shell\n",
    "\n",
    "* [Bourne Shell](https://es.wikipedia.org/wiki/Bourne_shell)\n",
    "* [Bash](https://es.wikipedia.org/wiki/Bash)\n",
    "* [Z Shell](https://es.wikipedia.org/wiki/Z_shell)\n",
    "* [C Shell](https://es.wikipedia.org/wiki/C_shell)\n",
    "* [Korn Shell](https://es.wikipedia.org/wiki/Korn_shell)\n",
    "* [Fish Shell](https://es.wikipedia.org/wiki/Friendly_interactive_shell)\n",
    "* [PowerShell](https://es.wikipedia.org/wiki/Windows_PowerShell)"
   ]
  }
 ],
 "metadata": {
  "language_info": {
   "name": "python"
  },
  "orig_nbformat": 4
 },
 "nbformat": 4,
 "nbformat_minor": 2
}
