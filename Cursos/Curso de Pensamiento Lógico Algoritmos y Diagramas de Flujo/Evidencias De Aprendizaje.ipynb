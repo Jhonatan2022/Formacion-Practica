{
 "cells": [
  {
   "attachments": {},
   "cell_type": "markdown",
   "metadata": {},
   "source": [
    "# Pensamiento Lógico Algoritmos y Diagramas de Flujo\n",
    "\n",
    "* [Presentación](https://static.platzi.com/media/public/uploads/slides-del-curso-de-pensamiento-logico-algoritmos-y-diagramas-de-flujo_286980c3-5152-42e9-a625-71d917235b9a.pdf)\n",
    "\n",
    "\n",
    "- El sistema binario es un sistema de numeración que utiliza 2 símbolos 0 (cero) y 1 (uno), denominados dígitos binarios.\n",
    "- + 1 = true o encendido\n",
    "- + 0 = false o apagado\n",
    "\n",
    "```js\n",
    "1 * 2^0 = 1\n",
    "1 * 2^1 = 2\n",
    "1 * 2^2 = 4\n",
    "1 * 2^3 = 8 = 15\n",
    "```\n",
    "\n",
    "\n",
    "![](img/Tablas%20de%20verdad.png)\n",
    "![](img/Operadores%20Logicos.png)\n",
    "![](img/Login%20Users.png)"
   ]
  },
  {
   "attachments": {},
   "cell_type": "markdown",
   "metadata": {},
   "source": [
    "# Webs de interés\n",
    "\n",
    "* [Tablas de verdad](https://platzi.com/blog/tablas-verdad-reglas-ejemplos/) para entender la lógica booleana"
   ]
  }
 ],
 "metadata": {
  "language_info": {
   "name": "python"
  },
  "orig_nbformat": 4
 },
 "nbformat": 4,
 "nbformat_minor": 2
}
