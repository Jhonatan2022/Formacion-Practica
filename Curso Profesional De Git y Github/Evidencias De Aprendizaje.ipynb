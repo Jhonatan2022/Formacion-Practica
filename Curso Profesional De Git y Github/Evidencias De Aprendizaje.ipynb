{
 "cells": [
  {
   "attachments": {},
   "cell_type": "markdown",
   "metadata": {},
   "source": [
    "# Introducción a Git\n",
    "## Requisitos para el curso\n",
    "\n",
    "* Git instalado: [Git](https://git-scm.com/downloads)\n",
    "* Cuenta en GitHub: [GitHub](https://github.com/)\n",
    "* Editor de código: [Visual Studio Code](https://code.visualstudio.com/)\n",
    "\n",
    "## Primeros pasos con Git\n",
    "```sh\n",
    "# Nos sirve para inicializar un repositorio al final de la ruta dira (master -> main) que es la rama principal\n",
    "git init \n",
    "```\n",
    "![](img/Git%20init.png)\n",
    "\n",
    "\n",
    "```sh\n",
    "git status # Nos sirve para ver el estado de los archivos\n",
    "```\n",
    "![](img/Git%20Status.png)\n",
    "\n",
    "\n",
    "```sh\n",
    "git add # Nos sirve para agregar archivos al stage\n",
    "git add . # Nos sirve para agregar todos los archivos al\n",
    "git commit -m \"Mensaje\" # Nos sirve para crear un commit stage\n",
    "```\n",
    "![](img/Git%20Add%20Commit.png)\n",
    "\n",
    "\n",
    "```sh\n",
    "git show # Nos sirve para ver los cambios que se han hecho\n",
    "```\n",
    "![](img/Git%20Show.png)\n",
    "\n",
    "\n",
    "```sh\n",
    "git log # Nos sirve para ver los commits que se han hecho\n",
    "```\n",
    "![](img/Git%20Log.png)"
   ]
  }
 ],
 "metadata": {
  "language_info": {
   "name": "python"
  },
  "orig_nbformat": 4
 },
 "nbformat": 4,
 "nbformat_minor": 2
}
